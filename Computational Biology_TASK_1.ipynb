{
 "cells": [
  {
   "cell_type": "code",
   "execution_count": 15,
   "id": "919ccdbd",
   "metadata": {},
   "outputs": [
    {
     "name": "stdout",
     "output_type": "stream",
     "text": [
      "Sequence: VAKA\n",
      "Peptide VAKA has molecular formula C17H33N5O5\n",
      "Sequence MonoWeight =  387.2481710527\n",
      "Sequence MonoWeight + 2H =  389.26272398624207\n",
      "MZ =  194.63136199312103\n",
      "The peptide VAKA consists of the following amino acids:\n",
      "Valine : 117.0789793509\n",
      "Alanine : 89.04767922330001\n",
      "Lysine : 146.1055284466\n",
      "Alanine : 89.04767922330001\n",
      "THE SUM OF V + A + K + A =  441.2798662441\n",
      "Sequence MonoWeight + 2H =  389.26272398624207\n",
      "IS VAKA = V + K + A + A -->  False\n"
     ]
    }
   ],
   "source": [
    "from pyopenms import *\n",
    "\n",
    "seq = AASequence.fromString(\"VAKA\")     # create AASequence object from string representation\n",
    "print(\"Sequence:\", seq)\n",
    "seq_formula = seq.getFormula()          # Molecular formula\n",
    "print(\"Peptide\", seq, \"has molecular formula\", seq_formula)\n",
    "\n",
    "\n",
    "\n",
    "seqMonoWeight = seq.getMonoWeight()     #The MonoWeight of the whole sequence\n",
    "seqMonoWeight_2H = seq.getMonoWeight(Residue.ResidueType.Full, 2)\n",
    "mz = seq.getMonoWeight(Residue.ResidueType.Full, 2) / 2.0\n",
    "print(\"Sequence MonoWeight = \",seqMonoWeight)\n",
    "print(\"Sequence MonoWeight + 2H = \",seqMonoWeight_2H)\n",
    "print(\"MZ = \",mz)\n",
    "\n",
    "\n",
    "Sum=0                           #The Sum of V + A + K + A\n",
    "print(\"The peptide\", str(seq), \"consists of the following amino acids:\")\n",
    "for Amino_Acid in seq:\n",
    "    Sum=Sum+Amino_Acid.getMonoWeight()\n",
    "    print(Amino_Acid.getName(), \":\", Amino_Acid.getMonoWeight())\n",
    "    \n",
    "    \n",
    "print(\"THE SUM OF V + A + K + A = \",Sum)    \n",
    "print(\"Sequence MonoWeight + 2H = \",seqMonoWeight_2H)\n",
    "print(\"IS VAKA = V + K + A + A --> \",bool(seqMonoWeight_2H==Sum))"
   ]
  }
 ],
 "metadata": {
  "kernelspec": {
   "display_name": "Python 3 (ipykernel)",
   "language": "python",
   "name": "python3"
  },
  "language_info": {
   "codemirror_mode": {
    "name": "ipython",
    "version": 3
   },
   "file_extension": ".py",
   "mimetype": "text/x-python",
   "name": "python",
   "nbconvert_exporter": "python",
   "pygments_lexer": "ipython3",
   "version": "3.9.7"
  }
 },
 "nbformat": 4,
 "nbformat_minor": 5
}
